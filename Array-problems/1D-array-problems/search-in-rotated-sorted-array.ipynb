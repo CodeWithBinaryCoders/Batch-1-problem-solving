{
 "cells": [
  {
   "cell_type": "markdown",
   "metadata": {},
   "source": [
    "# Search in Rotated Sorted Array"
   ]
  },
  {
   "cell_type": "markdown",
   "metadata": {},
   "source": [
    "### all the elemens are unique"
   ]
  },
  {
   "cell_type": "code",
   "execution_count": 1,
   "metadata": {},
   "outputs": [],
   "source": [
    "def search(arr, key):\n",
    "    low = 0\n",
    "    high = len(arr) - 1\n",
    "\n",
    "    while low <= high:\n",
    "        mid = low + (high - low) // 2 # calculate the middle index\n",
    "\n",
    "        if arr[mid] == key: # if key is found\n",
    "            return mid # return the index\n",
    "        \n",
    "        if arr[low] <= arr[mid]: # if the left half is sorted\n",
    "            if arr[low] <= key and key <= arr[mid]: # if key is in the left half\n",
    "                high = mid - 1 # update the high index\n",
    "            else: # if key is in the right half\n",
    "                low = mid + 1 # update the low index\n",
    "\n",
    "        else: # if the right half is sorted\n",
    "            if arr[mid] <= key and key <= arr[high]: # if key is in the right half\n",
    "                low = mid + 1 # update the low index\n",
    "            else: # if key is in the left half\n",
    "                high = mid - 1\n",
    "\n",
    "    return -1 # return -1 if key is not found"
   ]
  },
  {
   "cell_type": "code",
   "execution_count": 6,
   "metadata": {},
   "outputs": [
    {
     "name": "stdout",
     "output_type": "stream",
     "text": [
      "15 not found\n"
     ]
    }
   ],
   "source": [
    "arr = [9, 10, 11, 1, 2, 3, 4, 5, 6, 7, 8] # input array (rotated sorted)\n",
    "key = 15 # key to be searched\n",
    "\n",
    "ans = search(arr, key) # call the search function\n",
    "\n",
    "if -1 == ans:\n",
    "    print(f\"{key} not found\")\n",
    "else:\n",
    "    print(f\"{key} found at index {ans}\")"
   ]
  }
 ],
 "metadata": {
  "kernelspec": {
   "display_name": "Python 3",
   "language": "python",
   "name": "python3"
  },
  "language_info": {
   "codemirror_mode": {
    "name": "ipython",
    "version": 3
   },
   "file_extension": ".py",
   "mimetype": "text/x-python",
   "name": "python",
   "nbconvert_exporter": "python",
   "pygments_lexer": "ipython3",
   "version": "3.11.5"
  }
 },
 "nbformat": 4,
 "nbformat_minor": 2
}
